{
 "cells": [
  {
   "cell_type": "code",
   "execution_count": 1,
   "id": "4390d8aa-b8a2-4a1d-89f3-50683bde0d44",
   "metadata": {},
   "outputs": [],
   "source": [
    "import cv2"
   ]
  },
  {
   "cell_type": "code",
   "execution_count": 2,
   "id": "435a12a9-d106-42ab-a15a-cdb0c6a93a82",
   "metadata": {},
   "outputs": [
    {
     "name": "stderr",
     "output_type": "stream",
     "text": [
      "<>:9: SyntaxWarning: \"is\" with 'tuple' literal. Did you mean \"==\"?\n",
      "<>:9: SyntaxWarning: \"is\" with 'tuple' literal. Did you mean \"==\"?\n",
      "C:\\Users\\rahul\\AppData\\Local\\Temp\\ipykernel_9468\\898152363.py:9: SyntaxWarning: \"is\" with 'tuple' literal. Did you mean \"==\"?\n",
      "  if faces is ():\n"
     ]
    },
    {
     "name": "stdout",
     "output_type": "stream",
     "text": [
      "Collecting samples is completed....\n"
     ]
    }
   ],
   "source": [
    "def generate_dataset():\n",
    "    face_classifier = cv2.CascadeClassifier(\"haarcascade_frontalface_default.xml\")\n",
    "    def face_cropped(img):\n",
    "        gray = cv2.cvtColor(img,cv2.COLOR_BGR2GRAY)\n",
    "        faces = face_classifier.detectMultiScale(gray, 1.3, 5)\n",
    "        # scaling factor = 1.3\n",
    "        # minimum neighbor = 5\n",
    "         \n",
    "        if faces is ():\n",
    "            return None\n",
    "        for (x,y,w,h) in faces:\n",
    "            cropped_face = img[y:y+h,x:x+w]\n",
    "        return cropped_face\n",
    "     \n",
    "    cap = cv2.VideoCapture(0)\n",
    "    id =1\n",
    "    img_id = 0\n",
    "     \n",
    "    while True:\n",
    "        ret,frame = cap.read()\n",
    "        if face_cropped(frame) is not None:\n",
    "            img_id+=1\n",
    "            face = cv2.resize(face_cropped(frame), (200,200))\n",
    "            face = cv2.cvtColor(face, cv2.COLOR_BGR2GRAY)\n",
    "            file_name_path = \"data/user.\"+str(id)+\".\"+str(img_id)+\".jpg\"\n",
    "            cv2.imwrite(file_name_path, face)\n",
    "            cv2.putText(face, str(img_id), (50,50), cv2.FONT_HERSHEY_COMPLEX, 1, (0,255,0), 2)\n",
    "            \n",
    "            cv2.imshow(\"Cropped face\", face)\n",
    "             \n",
    "        if cv2.waitKey(1)==13 or int(img_id)==200: #13 is the ASCII character of Enter\n",
    "            break\n",
    "             \n",
    "    cap.release()\n",
    "    cv2.destroyAllWindows()\n",
    "    print(\"Collecting samples is completed....\")\n",
    "generate_dataset()"
   ]
  },
  {
   "cell_type": "code",
   "execution_count": 3,
   "id": "0a1aa930-4acc-4b28-b49f-bec58b93ca13",
   "metadata": {},
   "outputs": [
    {
     "name": "stdout",
     "output_type": "stream",
     "text": [
      "Defaulting to user installation because normal site-packages is not writeable\n",
      "Requirement already satisfied: pillow in c:\\users\\rahul\\appdata\\roaming\\python\\python312\\site-packages (10.3.0)\n"
     ]
    }
   ],
   "source": [
    "!pip install pillow"
   ]
  },
  {
   "cell_type": "code",
   "execution_count": 4,
   "id": "ebf7e189-138a-4b26-bdf4-dc489099be43",
   "metadata": {},
   "outputs": [],
   "source": [
    "import os\n",
    "import cv2\n",
    "from PIL import Image #pip install pillow\n",
    "import numpy as np    # pip install numpy\n",
    " "
   ]
  },
  {
   "cell_type": "code",
   "execution_count": 5,
   "id": "ffcde650-6c9d-4b83-99f7-dc906c694056",
   "metadata": {},
   "outputs": [],
   "source": [
    "def train_classifier(data_dir):\n",
    "    path = [os.path.join(data_dir, f) for f in os.listdir(data_dir)]\n",
    "     \n",
    "    faces = []\n",
    "    ids = []\n",
    "     \n",
    "    for image in path:\n",
    "        img = Image.open(image).convert('L')\n",
    "        imageNp = np.array(img, 'uint8')\n",
    "        id = int(os.path.split(image)[1].split(\".\")[1])\n",
    "         \n",
    "        faces.append(imageNp)\n",
    "        ids.append(id)\n",
    "         \n",
    "    ids = np.array(ids)\n",
    "     \n",
    "    # Train and save classifier\n",
    "    clf = cv2.face.LBPHFaceRecognizer_create()\n",
    "    clf.train(faces,ids)\n",
    "    clf.write(\"classifier.xml\")\n",
    "train_classifier(\"data\")"
   ]
  },
  {
   "cell_type": "code",
   "execution_count": 6,
   "id": "970e6d90-e3da-4ce7-9170-5a7a7cd92d23",
   "metadata": {},
   "outputs": [],
   "source": [
    "import cv2\n",
    "import numpy as np\n",
    "from PIL import Image\n",
    "import os"
   ]
  },
  {
   "cell_type": "code",
   "execution_count": null,
   "id": "4751a0fd-44db-46e6-aab4-a8ec54045845",
   "metadata": {},
   "outputs": [],
   "source": [
    "import os\n",
    "import cv2\n",
    "import numpy as np\n",
    "from PIL import Image  # Ensure Pillow is installed with 'pip install pillow'\n",
    "\n",
    "def train_classifier(data_dir):\n",
    "    path = [os.path.join(data_dir, f) for f in os.listdir(data_dir)]\n",
    "    faces = []\n",
    "    ids = []\n",
    "\n",
    "    for image_path in path:\n",
    "        img = Image.open(image_path).convert('L')  # Convert to grayscale\n",
    "        image_np = np.array(img, 'uint8')\n",
    "        id = int(os.path.split(image_path)[1].split('.')[1])\n",
    "        faces.append(image_np)\n",
    "        ids.append(id)\n",
    "\n",
    "    ids = np.array(ids)\n",
    "\n",
    "    # Train and save classifier\n",
    "    clf = cv2.face.LBPHFaceRecognizer_create()\n",
    "    clf.train(faces, ids)\n",
    "    clf.write(\"classifier.xml\")\n",
    "\n",
    "def draw_boundary(img, classifier, scaleFactor, minNeighbors, color, text, clf):\n",
    "    gray_img = cv2.cvtColor(img, cv2.COLOR_BGR2GRAY)\n",
    "    features = classifier.detectMultiScale(gray_img, scaleFactor, minNeighbors)\n",
    "    \n",
    "    for (x, y, w, h) in features:\n",
    "        cv2.rectangle(img, (x, y), (x+w, y+h), color, 2)\n",
    "        id, _ = clf.predict(gray_img[y:y+h, x:x+w])\n",
    "        cv2.putText(img, text, (x, y-4), cv2.FONT_HERSHEY_SIMPLEX, 0.8, color, 2)\n",
    "    return img\n",
    "\n",
    "def detect_face():\n",
    "    faceCascade = cv2.CascadeClassifier(\"haarcascade_frontalface_default.xml\")\n",
    "    clf = cv2.face.LBPHFaceRecognizer_create()\n",
    "    clf.read(\"classifier.xml\")\n",
    "    \n",
    "    video_capture = cv2.VideoCapture(0)\n",
    "    \n",
    "    if not video_capture.isOpened():\n",
    "        print(\"Error: Could not open video device.\")\n",
    "        return\n",
    "    \n",
    "    while True:\n",
    "        ret, img = video_capture.read()\n",
    "        \n",
    "        if not ret:\n",
    "            print(\"Failed to capture image\")\n",
    "            break\n",
    "        \n",
    "        img = draw_boundary(img, faceCascade, 1.3, 6, (255, 255, 255), \"Face\", clf)\n",
    "        cv2.imshow(\"Face Detection\", img)\n",
    "        \n",
    "        if cv2.waitKey(1) == 13:  # 13 is the Enter key\n",
    "            break\n",
    "    \n",
    "    video_capture.release()\n",
    "    cv2.destroyAllWindows()\n",
    "\n",
    "# First, train the classifier (this step should be done only once with the prepared dataset)\n",
    "# train_classifier(\"data\")\n",
    "\n",
    "# Then, run the face detection\n",
    "detect_face()\n"
   ]
  },
  {
   "cell_type": "code",
   "execution_count": null,
   "id": "d950c0e7-fc11-41da-be35-017591f66241",
   "metadata": {},
   "outputs": [],
   "source": [
    "import tkinter as tk\n",
    "from tkinter import messagebox"
   ]
  },
  {
   "cell_type": "code",
   "execution_count": null,
   "id": "75413c1b-0763-44f1-92f8-c7892a4d592a",
   "metadata": {},
   "outputs": [],
   "source": [
    "window = tk.Tk()\n",
    "window.title(\"Face Recognition system\")\n",
    " \n",
    "l1 = tk.Label(window, text=\"Name\", font=(\"Algerian\",20))\n",
    "l1.grid(column=0, row=0)\n",
    "t1 = tk.Entry(window, width=50, bd=5)\n",
    "t1.grid(column=1, row=0)\n",
    " \n",
    "l2 = tk.Label(window, text=\"Age\", font=(\"Algerian\",20))\n",
    "l2.grid(column=0, row=1)\n",
    "t2 = tk.Entry(window, width=50, bd=5)\n",
    "t2.grid(column=1, row=1)\n",
    " \n",
    "l3 = tk.Label(window, text=\"Address\", font=(\"Algerian\",20))\n",
    "l3.grid(column=0, row=2)\n",
    "t3 = tk.Entry(window, width=50, bd=5)\n",
    "t3.grid(column=1, row=2)\n",
    " \n",
    " \n",
    "b1 = tk.Button(window, text=\"Training\", font=(\"Algerian\",20),bg=\"orange\",fg=\"red\")\n",
    "b1.grid(column=0, row=4)\n",
    " \n",
    "b2 = tk.Button(window, text=\"Detect the faces\", font=(\"Algerian\",20), bg=\"green\", fg=\"orange\")\n",
    "b2.grid(column=1, row=4)\n",
    " \n",
    "b3 = tk.Button(window, text=\"Generate dataset\", font=(\"Algerian\",20), bg=\"pink\", fg=\"black\")\n",
    "b3.grid(column=2, row=4)\n",
    " \n",
    "window.geometry(\"800x200\")\n",
    "window.mainloop()"
   ]
  },
  {
   "cell_type": "code",
   "execution_count": null,
   "id": "471add44-4ab2-44d2-823c-0b05c6ed8897",
   "metadata": {},
   "outputs": [],
   "source": []
  }
 ],
 "metadata": {
  "kernelspec": {
   "display_name": "Python 3 (ipykernel)",
   "language": "python",
   "name": "python3"
  },
  "language_info": {
   "codemirror_mode": {
    "name": "ipython",
    "version": 3
   },
   "file_extension": ".py",
   "mimetype": "text/x-python",
   "name": "python",
   "nbconvert_exporter": "python",
   "pygments_lexer": "ipython3",
   "version": "3.12.4"
  }
 },
 "nbformat": 4,
 "nbformat_minor": 5
}
